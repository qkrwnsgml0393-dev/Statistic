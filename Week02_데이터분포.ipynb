{
  "nbformat": 4,
  "nbformat_minor": 0,
  "metadata": {
    "colab": {
      "provenance": [],
      "authorship_tag": "ABX9TyPqBpNd1kSbRFpLoQl9Gt1+",
      "include_colab_link": true
    },
    "kernelspec": {
      "name": "python3",
      "display_name": "Python 3"
    },
    "language_info": {
      "name": "python"
    }
  },
  "cells": [
    {
      "cell_type": "markdown",
      "metadata": {
        "id": "view-in-github",
        "colab_type": "text"
      },
      "source": [
        "<a href=\"https://colab.research.google.com/github/qkrwnsgml0393-dev/Statistic/blob/main/Week02_%EB%8D%B0%EC%9D%B4%ED%84%B0%EB%B6%84%ED%8F%AC.ipynb\" target=\"_parent\"><img src=\"https://colab.research.google.com/assets/colab-badge.svg\" alt=\"Open In Colab\"/></a>"
      ]
    },
    {
      "cell_type": "code",
      "execution_count": 48,
      "metadata": {
        "colab": {
          "base_uri": "https://localhost:8080/",
          "height": 109
        },
        "id": "KnzXysm2i4k3",
        "outputId": "91ffcd96-4f24-454f-b6e3-bbce3e321c1f"
      },
      "outputs": [
        {
          "output_type": "display_data",
          "data": {
            "text/plain": [
              "<IPython.core.display.HTML object>"
            ],
            "text/html": [
              "\n",
              "     <input type=\"file\" id=\"files-43c42add-b8d3-4a1b-a1ae-ff2c4c831f79\" name=\"files[]\" multiple disabled\n",
              "        style=\"border:none\" />\n",
              "     <output id=\"result-43c42add-b8d3-4a1b-a1ae-ff2c4c831f79\">\n",
              "      Upload widget is only available when the cell has been executed in the\n",
              "      current browser session. Please rerun this cell to enable.\n",
              "      </output>\n",
              "      <script>// Copyright 2017 Google LLC\n",
              "//\n",
              "// Licensed under the Apache License, Version 2.0 (the \"License\");\n",
              "// you may not use this file except in compliance with the License.\n",
              "// You may obtain a copy of the License at\n",
              "//\n",
              "//      http://www.apache.org/licenses/LICENSE-2.0\n",
              "//\n",
              "// Unless required by applicable law or agreed to in writing, software\n",
              "// distributed under the License is distributed on an \"AS IS\" BASIS,\n",
              "// WITHOUT WARRANTIES OR CONDITIONS OF ANY KIND, either express or implied.\n",
              "// See the License for the specific language governing permissions and\n",
              "// limitations under the License.\n",
              "\n",
              "/**\n",
              " * @fileoverview Helpers for google.colab Python module.\n",
              " */\n",
              "(function(scope) {\n",
              "function span(text, styleAttributes = {}) {\n",
              "  const element = document.createElement('span');\n",
              "  element.textContent = text;\n",
              "  for (const key of Object.keys(styleAttributes)) {\n",
              "    element.style[key] = styleAttributes[key];\n",
              "  }\n",
              "  return element;\n",
              "}\n",
              "\n",
              "// Max number of bytes which will be uploaded at a time.\n",
              "const MAX_PAYLOAD_SIZE = 100 * 1024;\n",
              "\n",
              "function _uploadFiles(inputId, outputId) {\n",
              "  const steps = uploadFilesStep(inputId, outputId);\n",
              "  const outputElement = document.getElementById(outputId);\n",
              "  // Cache steps on the outputElement to make it available for the next call\n",
              "  // to uploadFilesContinue from Python.\n",
              "  outputElement.steps = steps;\n",
              "\n",
              "  return _uploadFilesContinue(outputId);\n",
              "}\n",
              "\n",
              "// This is roughly an async generator (not supported in the browser yet),\n",
              "// where there are multiple asynchronous steps and the Python side is going\n",
              "// to poll for completion of each step.\n",
              "// This uses a Promise to block the python side on completion of each step,\n",
              "// then passes the result of the previous step as the input to the next step.\n",
              "function _uploadFilesContinue(outputId) {\n",
              "  const outputElement = document.getElementById(outputId);\n",
              "  const steps = outputElement.steps;\n",
              "\n",
              "  const next = steps.next(outputElement.lastPromiseValue);\n",
              "  return Promise.resolve(next.value.promise).then((value) => {\n",
              "    // Cache the last promise value to make it available to the next\n",
              "    // step of the generator.\n",
              "    outputElement.lastPromiseValue = value;\n",
              "    return next.value.response;\n",
              "  });\n",
              "}\n",
              "\n",
              "/**\n",
              " * Generator function which is called between each async step of the upload\n",
              " * process.\n",
              " * @param {string} inputId Element ID of the input file picker element.\n",
              " * @param {string} outputId Element ID of the output display.\n",
              " * @return {!Iterable<!Object>} Iterable of next steps.\n",
              " */\n",
              "function* uploadFilesStep(inputId, outputId) {\n",
              "  const inputElement = document.getElementById(inputId);\n",
              "  inputElement.disabled = false;\n",
              "\n",
              "  const outputElement = document.getElementById(outputId);\n",
              "  outputElement.innerHTML = '';\n",
              "\n",
              "  const pickedPromise = new Promise((resolve) => {\n",
              "    inputElement.addEventListener('change', (e) => {\n",
              "      resolve(e.target.files);\n",
              "    });\n",
              "  });\n",
              "\n",
              "  const cancel = document.createElement('button');\n",
              "  inputElement.parentElement.appendChild(cancel);\n",
              "  cancel.textContent = 'Cancel upload';\n",
              "  const cancelPromise = new Promise((resolve) => {\n",
              "    cancel.onclick = () => {\n",
              "      resolve(null);\n",
              "    };\n",
              "  });\n",
              "\n",
              "  // Wait for the user to pick the files.\n",
              "  const files = yield {\n",
              "    promise: Promise.race([pickedPromise, cancelPromise]),\n",
              "    response: {\n",
              "      action: 'starting',\n",
              "    }\n",
              "  };\n",
              "\n",
              "  cancel.remove();\n",
              "\n",
              "  // Disable the input element since further picks are not allowed.\n",
              "  inputElement.disabled = true;\n",
              "\n",
              "  if (!files) {\n",
              "    return {\n",
              "      response: {\n",
              "        action: 'complete',\n",
              "      }\n",
              "    };\n",
              "  }\n",
              "\n",
              "  for (const file of files) {\n",
              "    const li = document.createElement('li');\n",
              "    li.append(span(file.name, {fontWeight: 'bold'}));\n",
              "    li.append(span(\n",
              "        `(${file.type || 'n/a'}) - ${file.size} bytes, ` +\n",
              "        `last modified: ${\n",
              "            file.lastModifiedDate ? file.lastModifiedDate.toLocaleDateString() :\n",
              "                                    'n/a'} - `));\n",
              "    const percent = span('0% done');\n",
              "    li.appendChild(percent);\n",
              "\n",
              "    outputElement.appendChild(li);\n",
              "\n",
              "    const fileDataPromise = new Promise((resolve) => {\n",
              "      const reader = new FileReader();\n",
              "      reader.onload = (e) => {\n",
              "        resolve(e.target.result);\n",
              "      };\n",
              "      reader.readAsArrayBuffer(file);\n",
              "    });\n",
              "    // Wait for the data to be ready.\n",
              "    let fileData = yield {\n",
              "      promise: fileDataPromise,\n",
              "      response: {\n",
              "        action: 'continue',\n",
              "      }\n",
              "    };\n",
              "\n",
              "    // Use a chunked sending to avoid message size limits. See b/62115660.\n",
              "    let position = 0;\n",
              "    do {\n",
              "      const length = Math.min(fileData.byteLength - position, MAX_PAYLOAD_SIZE);\n",
              "      const chunk = new Uint8Array(fileData, position, length);\n",
              "      position += length;\n",
              "\n",
              "      const base64 = btoa(String.fromCharCode.apply(null, chunk));\n",
              "      yield {\n",
              "        response: {\n",
              "          action: 'append',\n",
              "          file: file.name,\n",
              "          data: base64,\n",
              "        },\n",
              "      };\n",
              "\n",
              "      let percentDone = fileData.byteLength === 0 ?\n",
              "          100 :\n",
              "          Math.round((position / fileData.byteLength) * 100);\n",
              "      percent.textContent = `${percentDone}% done`;\n",
              "\n",
              "    } while (position < fileData.byteLength);\n",
              "  }\n",
              "\n",
              "  // All done.\n",
              "  yield {\n",
              "    response: {\n",
              "      action: 'complete',\n",
              "    }\n",
              "  };\n",
              "}\n",
              "\n",
              "scope.google = scope.google || {};\n",
              "scope.google.colab = scope.google.colab || {};\n",
              "scope.google.colab._files = {\n",
              "  _uploadFiles,\n",
              "  _uploadFilesContinue,\n",
              "};\n",
              "})(self);\n",
              "</script> "
            ]
          },
          "metadata": {}
        },
        {
          "output_type": "stream",
          "name": "stdout",
          "text": [
            "Saving KS_NFA_FTNESS_MESURE_ITEM_MESURE_INFO_202401.csv to KS_NFA_FTNESS_MESURE_ITEM_MESURE_INFO_202401 (3).csv\n"
          ]
        }
      ],
      "source": [
        "from google.colab import files\n",
        "uploaded = files.upload()"
      ]
    },
    {
      "cell_type": "code",
      "source": [
        "df = pd.read_csv('KS_NFA_FTNESS_MESURE_ITEM_MESURE_INFO_202401.csv')\n",
        "df.head()"
      ],
      "metadata": {
        "colab": {
          "base_uri": "https://localhost:8080/",
          "height": 270
        },
        "id": "Thw5C-edjxrk",
        "outputId": "98341e18-22f4-4721-ab03-37f5f838abce"
      },
      "execution_count": 49,
      "outputs": [
        {
          "output_type": "execute_result",
          "data": {
            "text/plain": [
              "   MESURE_TME CNTER_NM AGE_FLAG_NM MESURE_PLACE_FLAG_NM  MESURE_AGE_CO  \\\n",
              "0           3   동구(부산)         어르신                   일반             68   \n",
              "1           2  스포원(금정)          성인                   일반             27   \n",
              "2           1       사상          성인                   일반             19   \n",
              "3           5   KSPO송파          성인                   일반             58   \n",
              "4           2       포천          성인                   일반             54   \n",
              "\n",
              "  INPT_FLAG_NM COAW_FLAG_NM  MESURE_DAY SEXDSTN_FLAG_CD  MESURE_IEM_001_VALUE  \\\n",
              "0          관리자           참가    20240102               M                 176.2   \n",
              "1          관리자          3등급    20240102               F                 164.6   \n",
              "2          관리자           참가    20240102               M                 173.5   \n",
              "3          관리자           참가    20240102               M                 166.1   \n",
              "4          관리자          3등급    20240102               F                 149.3   \n",
              "\n",
              "   ...  MESURE_IEM_038_VALUE  MESURE_IEM_039_VALUE  MESURE_IEM_040_VALUE  \\\n",
              "0  ...                   NaN                   NaN                   NaN   \n",
              "1  ...                   NaN                   NaN                 0.393   \n",
              "2  ...                   NaN                   NaN                 0.312   \n",
              "3  ...                   NaN                   NaN                   NaN   \n",
              "4  ...                   NaN                   NaN                 0.340   \n",
              "\n",
              "   MESURE_IEM_041_VALUE  MESURE_IEM_042_VALUE  MESURE_IEM_043_VALUE  \\\n",
              "0                   NaN                   NaN                   NaN   \n",
              "1                 0.438                   NaN                   NaN   \n",
              "2                   NaN                   NaN                   NaN   \n",
              "3                   NaN                   NaN                   NaN   \n",
              "4                 0.470                   NaN                   NaN   \n",
              "\n",
              "   MESURE_IEM_044_VALUE  MESURE_IEM_050_VALUE  MESURE_IEM_051_VALUE  \\\n",
              "0                   NaN                   NaN                   NaN   \n",
              "1                   NaN                   NaN                   NaN   \n",
              "2                   NaN                   NaN                   NaN   \n",
              "3                   NaN                   NaN                   NaN   \n",
              "4                   NaN                   NaN                   NaN   \n",
              "\n",
              "   MESURE_IEM_052_VALUE  \n",
              "0                  42.8  \n",
              "1                   NaN  \n",
              "2                   NaN  \n",
              "3                   NaN  \n",
              "4                   NaN  \n",
              "\n",
              "[5 rows x 55 columns]"
            ],
            "text/html": [
              "\n",
              "  <div id=\"df-026c0206-675c-4154-9be8-9edfed8208ac\" class=\"colab-df-container\">\n",
              "    <div>\n",
              "<style scoped>\n",
              "    .dataframe tbody tr th:only-of-type {\n",
              "        vertical-align: middle;\n",
              "    }\n",
              "\n",
              "    .dataframe tbody tr th {\n",
              "        vertical-align: top;\n",
              "    }\n",
              "\n",
              "    .dataframe thead th {\n",
              "        text-align: right;\n",
              "    }\n",
              "</style>\n",
              "<table border=\"1\" class=\"dataframe\">\n",
              "  <thead>\n",
              "    <tr style=\"text-align: right;\">\n",
              "      <th></th>\n",
              "      <th>MESURE_TME</th>\n",
              "      <th>CNTER_NM</th>\n",
              "      <th>AGE_FLAG_NM</th>\n",
              "      <th>MESURE_PLACE_FLAG_NM</th>\n",
              "      <th>MESURE_AGE_CO</th>\n",
              "      <th>INPT_FLAG_NM</th>\n",
              "      <th>COAW_FLAG_NM</th>\n",
              "      <th>MESURE_DAY</th>\n",
              "      <th>SEXDSTN_FLAG_CD</th>\n",
              "      <th>MESURE_IEM_001_VALUE</th>\n",
              "      <th>...</th>\n",
              "      <th>MESURE_IEM_038_VALUE</th>\n",
              "      <th>MESURE_IEM_039_VALUE</th>\n",
              "      <th>MESURE_IEM_040_VALUE</th>\n",
              "      <th>MESURE_IEM_041_VALUE</th>\n",
              "      <th>MESURE_IEM_042_VALUE</th>\n",
              "      <th>MESURE_IEM_043_VALUE</th>\n",
              "      <th>MESURE_IEM_044_VALUE</th>\n",
              "      <th>MESURE_IEM_050_VALUE</th>\n",
              "      <th>MESURE_IEM_051_VALUE</th>\n",
              "      <th>MESURE_IEM_052_VALUE</th>\n",
              "    </tr>\n",
              "  </thead>\n",
              "  <tbody>\n",
              "    <tr>\n",
              "      <th>0</th>\n",
              "      <td>3</td>\n",
              "      <td>동구(부산)</td>\n",
              "      <td>어르신</td>\n",
              "      <td>일반</td>\n",
              "      <td>68</td>\n",
              "      <td>관리자</td>\n",
              "      <td>참가</td>\n",
              "      <td>20240102</td>\n",
              "      <td>M</td>\n",
              "      <td>176.2</td>\n",
              "      <td>...</td>\n",
              "      <td>NaN</td>\n",
              "      <td>NaN</td>\n",
              "      <td>NaN</td>\n",
              "      <td>NaN</td>\n",
              "      <td>NaN</td>\n",
              "      <td>NaN</td>\n",
              "      <td>NaN</td>\n",
              "      <td>NaN</td>\n",
              "      <td>NaN</td>\n",
              "      <td>42.8</td>\n",
              "    </tr>\n",
              "    <tr>\n",
              "      <th>1</th>\n",
              "      <td>2</td>\n",
              "      <td>스포원(금정)</td>\n",
              "      <td>성인</td>\n",
              "      <td>일반</td>\n",
              "      <td>27</td>\n",
              "      <td>관리자</td>\n",
              "      <td>3등급</td>\n",
              "      <td>20240102</td>\n",
              "      <td>F</td>\n",
              "      <td>164.6</td>\n",
              "      <td>...</td>\n",
              "      <td>NaN</td>\n",
              "      <td>NaN</td>\n",
              "      <td>0.393</td>\n",
              "      <td>0.438</td>\n",
              "      <td>NaN</td>\n",
              "      <td>NaN</td>\n",
              "      <td>NaN</td>\n",
              "      <td>NaN</td>\n",
              "      <td>NaN</td>\n",
              "      <td>NaN</td>\n",
              "    </tr>\n",
              "    <tr>\n",
              "      <th>2</th>\n",
              "      <td>1</td>\n",
              "      <td>사상</td>\n",
              "      <td>성인</td>\n",
              "      <td>일반</td>\n",
              "      <td>19</td>\n",
              "      <td>관리자</td>\n",
              "      <td>참가</td>\n",
              "      <td>20240102</td>\n",
              "      <td>M</td>\n",
              "      <td>173.5</td>\n",
              "      <td>...</td>\n",
              "      <td>NaN</td>\n",
              "      <td>NaN</td>\n",
              "      <td>0.312</td>\n",
              "      <td>NaN</td>\n",
              "      <td>NaN</td>\n",
              "      <td>NaN</td>\n",
              "      <td>NaN</td>\n",
              "      <td>NaN</td>\n",
              "      <td>NaN</td>\n",
              "      <td>NaN</td>\n",
              "    </tr>\n",
              "    <tr>\n",
              "      <th>3</th>\n",
              "      <td>5</td>\n",
              "      <td>KSPO송파</td>\n",
              "      <td>성인</td>\n",
              "      <td>일반</td>\n",
              "      <td>58</td>\n",
              "      <td>관리자</td>\n",
              "      <td>참가</td>\n",
              "      <td>20240102</td>\n",
              "      <td>M</td>\n",
              "      <td>166.1</td>\n",
              "      <td>...</td>\n",
              "      <td>NaN</td>\n",
              "      <td>NaN</td>\n",
              "      <td>NaN</td>\n",
              "      <td>NaN</td>\n",
              "      <td>NaN</td>\n",
              "      <td>NaN</td>\n",
              "      <td>NaN</td>\n",
              "      <td>NaN</td>\n",
              "      <td>NaN</td>\n",
              "      <td>NaN</td>\n",
              "    </tr>\n",
              "    <tr>\n",
              "      <th>4</th>\n",
              "      <td>2</td>\n",
              "      <td>포천</td>\n",
              "      <td>성인</td>\n",
              "      <td>일반</td>\n",
              "      <td>54</td>\n",
              "      <td>관리자</td>\n",
              "      <td>3등급</td>\n",
              "      <td>20240102</td>\n",
              "      <td>F</td>\n",
              "      <td>149.3</td>\n",
              "      <td>...</td>\n",
              "      <td>NaN</td>\n",
              "      <td>NaN</td>\n",
              "      <td>0.340</td>\n",
              "      <td>0.470</td>\n",
              "      <td>NaN</td>\n",
              "      <td>NaN</td>\n",
              "      <td>NaN</td>\n",
              "      <td>NaN</td>\n",
              "      <td>NaN</td>\n",
              "      <td>NaN</td>\n",
              "    </tr>\n",
              "  </tbody>\n",
              "</table>\n",
              "<p>5 rows × 55 columns</p>\n",
              "</div>\n",
              "    <div class=\"colab-df-buttons\">\n",
              "\n",
              "  <div class=\"colab-df-container\">\n",
              "    <button class=\"colab-df-convert\" onclick=\"convertToInteractive('df-026c0206-675c-4154-9be8-9edfed8208ac')\"\n",
              "            title=\"Convert this dataframe to an interactive table.\"\n",
              "            style=\"display:none;\">\n",
              "\n",
              "  <svg xmlns=\"http://www.w3.org/2000/svg\" height=\"24px\" viewBox=\"0 -960 960 960\">\n",
              "    <path d=\"M120-120v-720h720v720H120Zm60-500h600v-160H180v160Zm220 220h160v-160H400v160Zm0 220h160v-160H400v160ZM180-400h160v-160H180v160Zm440 0h160v-160H620v160ZM180-180h160v-160H180v160Zm440 0h160v-160H620v160Z\"/>\n",
              "  </svg>\n",
              "    </button>\n",
              "\n",
              "  <style>\n",
              "    .colab-df-container {\n",
              "      display:flex;\n",
              "      gap: 12px;\n",
              "    }\n",
              "\n",
              "    .colab-df-convert {\n",
              "      background-color: #E8F0FE;\n",
              "      border: none;\n",
              "      border-radius: 50%;\n",
              "      cursor: pointer;\n",
              "      display: none;\n",
              "      fill: #1967D2;\n",
              "      height: 32px;\n",
              "      padding: 0 0 0 0;\n",
              "      width: 32px;\n",
              "    }\n",
              "\n",
              "    .colab-df-convert:hover {\n",
              "      background-color: #E2EBFA;\n",
              "      box-shadow: 0px 1px 2px rgba(60, 64, 67, 0.3), 0px 1px 3px 1px rgba(60, 64, 67, 0.15);\n",
              "      fill: #174EA6;\n",
              "    }\n",
              "\n",
              "    .colab-df-buttons div {\n",
              "      margin-bottom: 4px;\n",
              "    }\n",
              "\n",
              "    [theme=dark] .colab-df-convert {\n",
              "      background-color: #3B4455;\n",
              "      fill: #D2E3FC;\n",
              "    }\n",
              "\n",
              "    [theme=dark] .colab-df-convert:hover {\n",
              "      background-color: #434B5C;\n",
              "      box-shadow: 0px 1px 3px 1px rgba(0, 0, 0, 0.15);\n",
              "      filter: drop-shadow(0px 1px 2px rgba(0, 0, 0, 0.3));\n",
              "      fill: #FFFFFF;\n",
              "    }\n",
              "  </style>\n",
              "\n",
              "    <script>\n",
              "      const buttonEl =\n",
              "        document.querySelector('#df-026c0206-675c-4154-9be8-9edfed8208ac button.colab-df-convert');\n",
              "      buttonEl.style.display =\n",
              "        google.colab.kernel.accessAllowed ? 'block' : 'none';\n",
              "\n",
              "      async function convertToInteractive(key) {\n",
              "        const element = document.querySelector('#df-026c0206-675c-4154-9be8-9edfed8208ac');\n",
              "        const dataTable =\n",
              "          await google.colab.kernel.invokeFunction('convertToInteractive',\n",
              "                                                    [key], {});\n",
              "        if (!dataTable) return;\n",
              "\n",
              "        const docLinkHtml = 'Like what you see? Visit the ' +\n",
              "          '<a target=\"_blank\" href=https://colab.research.google.com/notebooks/data_table.ipynb>data table notebook</a>'\n",
              "          + ' to learn more about interactive tables.';\n",
              "        element.innerHTML = '';\n",
              "        dataTable['output_type'] = 'display_data';\n",
              "        await google.colab.output.renderOutput(dataTable, element);\n",
              "        const docLink = document.createElement('div');\n",
              "        docLink.innerHTML = docLinkHtml;\n",
              "        element.appendChild(docLink);\n",
              "      }\n",
              "    </script>\n",
              "  </div>\n",
              "\n",
              "\n",
              "    <div id=\"df-26b044d5-fac8-484a-bacc-af4f878d060d\">\n",
              "      <button class=\"colab-df-quickchart\" onclick=\"quickchart('df-26b044d5-fac8-484a-bacc-af4f878d060d')\"\n",
              "                title=\"Suggest charts\"\n",
              "                style=\"display:none;\">\n",
              "\n",
              "<svg xmlns=\"http://www.w3.org/2000/svg\" height=\"24px\"viewBox=\"0 0 24 24\"\n",
              "     width=\"24px\">\n",
              "    <g>\n",
              "        <path d=\"M19 3H5c-1.1 0-2 .9-2 2v14c0 1.1.9 2 2 2h14c1.1 0 2-.9 2-2V5c0-1.1-.9-2-2-2zM9 17H7v-7h2v7zm4 0h-2V7h2v10zm4 0h-2v-4h2v4z\"/>\n",
              "    </g>\n",
              "</svg>\n",
              "      </button>\n",
              "\n",
              "<style>\n",
              "  .colab-df-quickchart {\n",
              "      --bg-color: #E8F0FE;\n",
              "      --fill-color: #1967D2;\n",
              "      --hover-bg-color: #E2EBFA;\n",
              "      --hover-fill-color: #174EA6;\n",
              "      --disabled-fill-color: #AAA;\n",
              "      --disabled-bg-color: #DDD;\n",
              "  }\n",
              "\n",
              "  [theme=dark] .colab-df-quickchart {\n",
              "      --bg-color: #3B4455;\n",
              "      --fill-color: #D2E3FC;\n",
              "      --hover-bg-color: #434B5C;\n",
              "      --hover-fill-color: #FFFFFF;\n",
              "      --disabled-bg-color: #3B4455;\n",
              "      --disabled-fill-color: #666;\n",
              "  }\n",
              "\n",
              "  .colab-df-quickchart {\n",
              "    background-color: var(--bg-color);\n",
              "    border: none;\n",
              "    border-radius: 50%;\n",
              "    cursor: pointer;\n",
              "    display: none;\n",
              "    fill: var(--fill-color);\n",
              "    height: 32px;\n",
              "    padding: 0;\n",
              "    width: 32px;\n",
              "  }\n",
              "\n",
              "  .colab-df-quickchart:hover {\n",
              "    background-color: var(--hover-bg-color);\n",
              "    box-shadow: 0 1px 2px rgba(60, 64, 67, 0.3), 0 1px 3px 1px rgba(60, 64, 67, 0.15);\n",
              "    fill: var(--button-hover-fill-color);\n",
              "  }\n",
              "\n",
              "  .colab-df-quickchart-complete:disabled,\n",
              "  .colab-df-quickchart-complete:disabled:hover {\n",
              "    background-color: var(--disabled-bg-color);\n",
              "    fill: var(--disabled-fill-color);\n",
              "    box-shadow: none;\n",
              "  }\n",
              "\n",
              "  .colab-df-spinner {\n",
              "    border: 2px solid var(--fill-color);\n",
              "    border-color: transparent;\n",
              "    border-bottom-color: var(--fill-color);\n",
              "    animation:\n",
              "      spin 1s steps(1) infinite;\n",
              "  }\n",
              "\n",
              "  @keyframes spin {\n",
              "    0% {\n",
              "      border-color: transparent;\n",
              "      border-bottom-color: var(--fill-color);\n",
              "      border-left-color: var(--fill-color);\n",
              "    }\n",
              "    20% {\n",
              "      border-color: transparent;\n",
              "      border-left-color: var(--fill-color);\n",
              "      border-top-color: var(--fill-color);\n",
              "    }\n",
              "    30% {\n",
              "      border-color: transparent;\n",
              "      border-left-color: var(--fill-color);\n",
              "      border-top-color: var(--fill-color);\n",
              "      border-right-color: var(--fill-color);\n",
              "    }\n",
              "    40% {\n",
              "      border-color: transparent;\n",
              "      border-right-color: var(--fill-color);\n",
              "      border-top-color: var(--fill-color);\n",
              "    }\n",
              "    60% {\n",
              "      border-color: transparent;\n",
              "      border-right-color: var(--fill-color);\n",
              "    }\n",
              "    80% {\n",
              "      border-color: transparent;\n",
              "      border-right-color: var(--fill-color);\n",
              "      border-bottom-color: var(--fill-color);\n",
              "    }\n",
              "    90% {\n",
              "      border-color: transparent;\n",
              "      border-bottom-color: var(--fill-color);\n",
              "    }\n",
              "  }\n",
              "</style>\n",
              "\n",
              "      <script>\n",
              "        async function quickchart(key) {\n",
              "          const quickchartButtonEl =\n",
              "            document.querySelector('#' + key + ' button');\n",
              "          quickchartButtonEl.disabled = true;  // To prevent multiple clicks.\n",
              "          quickchartButtonEl.classList.add('colab-df-spinner');\n",
              "          try {\n",
              "            const charts = await google.colab.kernel.invokeFunction(\n",
              "                'suggestCharts', [key], {});\n",
              "          } catch (error) {\n",
              "            console.error('Error during call to suggestCharts:', error);\n",
              "          }\n",
              "          quickchartButtonEl.classList.remove('colab-df-spinner');\n",
              "          quickchartButtonEl.classList.add('colab-df-quickchart-complete');\n",
              "        }\n",
              "        (() => {\n",
              "          let quickchartButtonEl =\n",
              "            document.querySelector('#df-26b044d5-fac8-484a-bacc-af4f878d060d button');\n",
              "          quickchartButtonEl.style.display =\n",
              "            google.colab.kernel.accessAllowed ? 'block' : 'none';\n",
              "        })();\n",
              "      </script>\n",
              "    </div>\n",
              "\n",
              "    </div>\n",
              "  </div>\n"
            ],
            "application/vnd.google.colaboratory.intrinsic+json": {
              "type": "dataframe",
              "variable_name": "df"
            }
          },
          "metadata": {},
          "execution_count": 49
        }
      ]
    },
    {
      "cell_type": "code",
      "source": [
        "df_selected = df.iloc[:,[8,9,10,11,13,14,38,39,40,41,42]].dropna()\n",
        "df_selected.head()"
      ],
      "metadata": {
        "colab": {
          "base_uri": "https://localhost:8080/",
          "height": 224
        },
        "id": "r0rgU2bDlYX5",
        "outputId": "8ec1130d-7c10-42bf-c811-ca32f01dbee2"
      },
      "execution_count": 50,
      "outputs": [
        {
          "output_type": "execute_result",
          "data": {
            "text/plain": [
              "   SEXDSTN_FLAG_CD  MESURE_IEM_001_VALUE  MESURE_IEM_002_VALUE  \\\n",
              "3                M                 166.1                  69.9   \n",
              "26               M                 180.6                  70.7   \n",
              "31               M                 178.6                  78.8   \n",
              "32               M                 173.0                  66.1   \n",
              "39               M                 176.3                  75.1   \n",
              "\n",
              "    MESURE_IEM_003_VALUE  MESURE_IEM_005_VALUE  MESURE_IEM_006_VALUE  \\\n",
              "3                   22.9                  97.0                 159.0   \n",
              "26                  13.0                  68.0                 125.0   \n",
              "31                  21.9                  92.0                 134.0   \n",
              "32                  13.7                  68.0                 117.0   \n",
              "39                  13.1                  48.0                 101.0   \n",
              "\n",
              "    MESURE_IEM_031_VALUE  MESURE_IEM_032_VALUE  MESURE_IEM_033_VALUE  \\\n",
              "3                   99.0                 126.0                 145.0   \n",
              "26                  69.0                  94.0                 117.0   \n",
              "31                  67.0                 126.0                 149.0   \n",
              "32                  80.0                 109.0                 134.0   \n",
              "39                  90.0                 110.0                 124.0   \n",
              "\n",
              "    MESURE_IEM_034_VALUE  MESURE_IEM_035_VALUE  \n",
              "3                  173.0                  33.8  \n",
              "26                 150.0                  49.5  \n",
              "31                 177.0                  43.5  \n",
              "32                 172.0                  45.8  \n",
              "39                 153.0                  47.9  "
            ],
            "text/html": [
              "\n",
              "  <div id=\"df-605c5f92-b690-4a42-b1bd-c51465afa50f\" class=\"colab-df-container\">\n",
              "    <div>\n",
              "<style scoped>\n",
              "    .dataframe tbody tr th:only-of-type {\n",
              "        vertical-align: middle;\n",
              "    }\n",
              "\n",
              "    .dataframe tbody tr th {\n",
              "        vertical-align: top;\n",
              "    }\n",
              "\n",
              "    .dataframe thead th {\n",
              "        text-align: right;\n",
              "    }\n",
              "</style>\n",
              "<table border=\"1\" class=\"dataframe\">\n",
              "  <thead>\n",
              "    <tr style=\"text-align: right;\">\n",
              "      <th></th>\n",
              "      <th>SEXDSTN_FLAG_CD</th>\n",
              "      <th>MESURE_IEM_001_VALUE</th>\n",
              "      <th>MESURE_IEM_002_VALUE</th>\n",
              "      <th>MESURE_IEM_003_VALUE</th>\n",
              "      <th>MESURE_IEM_005_VALUE</th>\n",
              "      <th>MESURE_IEM_006_VALUE</th>\n",
              "      <th>MESURE_IEM_031_VALUE</th>\n",
              "      <th>MESURE_IEM_032_VALUE</th>\n",
              "      <th>MESURE_IEM_033_VALUE</th>\n",
              "      <th>MESURE_IEM_034_VALUE</th>\n",
              "      <th>MESURE_IEM_035_VALUE</th>\n",
              "    </tr>\n",
              "  </thead>\n",
              "  <tbody>\n",
              "    <tr>\n",
              "      <th>3</th>\n",
              "      <td>M</td>\n",
              "      <td>166.1</td>\n",
              "      <td>69.9</td>\n",
              "      <td>22.9</td>\n",
              "      <td>97.0</td>\n",
              "      <td>159.0</td>\n",
              "      <td>99.0</td>\n",
              "      <td>126.0</td>\n",
              "      <td>145.0</td>\n",
              "      <td>173.0</td>\n",
              "      <td>33.8</td>\n",
              "    </tr>\n",
              "    <tr>\n",
              "      <th>26</th>\n",
              "      <td>M</td>\n",
              "      <td>180.6</td>\n",
              "      <td>70.7</td>\n",
              "      <td>13.0</td>\n",
              "      <td>68.0</td>\n",
              "      <td>125.0</td>\n",
              "      <td>69.0</td>\n",
              "      <td>94.0</td>\n",
              "      <td>117.0</td>\n",
              "      <td>150.0</td>\n",
              "      <td>49.5</td>\n",
              "    </tr>\n",
              "    <tr>\n",
              "      <th>31</th>\n",
              "      <td>M</td>\n",
              "      <td>178.6</td>\n",
              "      <td>78.8</td>\n",
              "      <td>21.9</td>\n",
              "      <td>92.0</td>\n",
              "      <td>134.0</td>\n",
              "      <td>67.0</td>\n",
              "      <td>126.0</td>\n",
              "      <td>149.0</td>\n",
              "      <td>177.0</td>\n",
              "      <td>43.5</td>\n",
              "    </tr>\n",
              "    <tr>\n",
              "      <th>32</th>\n",
              "      <td>M</td>\n",
              "      <td>173.0</td>\n",
              "      <td>66.1</td>\n",
              "      <td>13.7</td>\n",
              "      <td>68.0</td>\n",
              "      <td>117.0</td>\n",
              "      <td>80.0</td>\n",
              "      <td>109.0</td>\n",
              "      <td>134.0</td>\n",
              "      <td>172.0</td>\n",
              "      <td>45.8</td>\n",
              "    </tr>\n",
              "    <tr>\n",
              "      <th>39</th>\n",
              "      <td>M</td>\n",
              "      <td>176.3</td>\n",
              "      <td>75.1</td>\n",
              "      <td>13.1</td>\n",
              "      <td>48.0</td>\n",
              "      <td>101.0</td>\n",
              "      <td>90.0</td>\n",
              "      <td>110.0</td>\n",
              "      <td>124.0</td>\n",
              "      <td>153.0</td>\n",
              "      <td>47.9</td>\n",
              "    </tr>\n",
              "  </tbody>\n",
              "</table>\n",
              "</div>\n",
              "    <div class=\"colab-df-buttons\">\n",
              "\n",
              "  <div class=\"colab-df-container\">\n",
              "    <button class=\"colab-df-convert\" onclick=\"convertToInteractive('df-605c5f92-b690-4a42-b1bd-c51465afa50f')\"\n",
              "            title=\"Convert this dataframe to an interactive table.\"\n",
              "            style=\"display:none;\">\n",
              "\n",
              "  <svg xmlns=\"http://www.w3.org/2000/svg\" height=\"24px\" viewBox=\"0 -960 960 960\">\n",
              "    <path d=\"M120-120v-720h720v720H120Zm60-500h600v-160H180v160Zm220 220h160v-160H400v160Zm0 220h160v-160H400v160ZM180-400h160v-160H180v160Zm440 0h160v-160H620v160ZM180-180h160v-160H180v160Zm440 0h160v-160H620v160Z\"/>\n",
              "  </svg>\n",
              "    </button>\n",
              "\n",
              "  <style>\n",
              "    .colab-df-container {\n",
              "      display:flex;\n",
              "      gap: 12px;\n",
              "    }\n",
              "\n",
              "    .colab-df-convert {\n",
              "      background-color: #E8F0FE;\n",
              "      border: none;\n",
              "      border-radius: 50%;\n",
              "      cursor: pointer;\n",
              "      display: none;\n",
              "      fill: #1967D2;\n",
              "      height: 32px;\n",
              "      padding: 0 0 0 0;\n",
              "      width: 32px;\n",
              "    }\n",
              "\n",
              "    .colab-df-convert:hover {\n",
              "      background-color: #E2EBFA;\n",
              "      box-shadow: 0px 1px 2px rgba(60, 64, 67, 0.3), 0px 1px 3px 1px rgba(60, 64, 67, 0.15);\n",
              "      fill: #174EA6;\n",
              "    }\n",
              "\n",
              "    .colab-df-buttons div {\n",
              "      margin-bottom: 4px;\n",
              "    }\n",
              "\n",
              "    [theme=dark] .colab-df-convert {\n",
              "      background-color: #3B4455;\n",
              "      fill: #D2E3FC;\n",
              "    }\n",
              "\n",
              "    [theme=dark] .colab-df-convert:hover {\n",
              "      background-color: #434B5C;\n",
              "      box-shadow: 0px 1px 3px 1px rgba(0, 0, 0, 0.15);\n",
              "      filter: drop-shadow(0px 1px 2px rgba(0, 0, 0, 0.3));\n",
              "      fill: #FFFFFF;\n",
              "    }\n",
              "  </style>\n",
              "\n",
              "    <script>\n",
              "      const buttonEl =\n",
              "        document.querySelector('#df-605c5f92-b690-4a42-b1bd-c51465afa50f button.colab-df-convert');\n",
              "      buttonEl.style.display =\n",
              "        google.colab.kernel.accessAllowed ? 'block' : 'none';\n",
              "\n",
              "      async function convertToInteractive(key) {\n",
              "        const element = document.querySelector('#df-605c5f92-b690-4a42-b1bd-c51465afa50f');\n",
              "        const dataTable =\n",
              "          await google.colab.kernel.invokeFunction('convertToInteractive',\n",
              "                                                    [key], {});\n",
              "        if (!dataTable) return;\n",
              "\n",
              "        const docLinkHtml = 'Like what you see? Visit the ' +\n",
              "          '<a target=\"_blank\" href=https://colab.research.google.com/notebooks/data_table.ipynb>data table notebook</a>'\n",
              "          + ' to learn more about interactive tables.';\n",
              "        element.innerHTML = '';\n",
              "        dataTable['output_type'] = 'display_data';\n",
              "        await google.colab.output.renderOutput(dataTable, element);\n",
              "        const docLink = document.createElement('div');\n",
              "        docLink.innerHTML = docLinkHtml;\n",
              "        element.appendChild(docLink);\n",
              "      }\n",
              "    </script>\n",
              "  </div>\n",
              "\n",
              "\n",
              "    <div id=\"df-d774820f-b483-4174-848d-082ec09b9b56\">\n",
              "      <button class=\"colab-df-quickchart\" onclick=\"quickchart('df-d774820f-b483-4174-848d-082ec09b9b56')\"\n",
              "                title=\"Suggest charts\"\n",
              "                style=\"display:none;\">\n",
              "\n",
              "<svg xmlns=\"http://www.w3.org/2000/svg\" height=\"24px\"viewBox=\"0 0 24 24\"\n",
              "     width=\"24px\">\n",
              "    <g>\n",
              "        <path d=\"M19 3H5c-1.1 0-2 .9-2 2v14c0 1.1.9 2 2 2h14c1.1 0 2-.9 2-2V5c0-1.1-.9-2-2-2zM9 17H7v-7h2v7zm4 0h-2V7h2v10zm4 0h-2v-4h2v4z\"/>\n",
              "    </g>\n",
              "</svg>\n",
              "      </button>\n",
              "\n",
              "<style>\n",
              "  .colab-df-quickchart {\n",
              "      --bg-color: #E8F0FE;\n",
              "      --fill-color: #1967D2;\n",
              "      --hover-bg-color: #E2EBFA;\n",
              "      --hover-fill-color: #174EA6;\n",
              "      --disabled-fill-color: #AAA;\n",
              "      --disabled-bg-color: #DDD;\n",
              "  }\n",
              "\n",
              "  [theme=dark] .colab-df-quickchart {\n",
              "      --bg-color: #3B4455;\n",
              "      --fill-color: #D2E3FC;\n",
              "      --hover-bg-color: #434B5C;\n",
              "      --hover-fill-color: #FFFFFF;\n",
              "      --disabled-bg-color: #3B4455;\n",
              "      --disabled-fill-color: #666;\n",
              "  }\n",
              "\n",
              "  .colab-df-quickchart {\n",
              "    background-color: var(--bg-color);\n",
              "    border: none;\n",
              "    border-radius: 50%;\n",
              "    cursor: pointer;\n",
              "    display: none;\n",
              "    fill: var(--fill-color);\n",
              "    height: 32px;\n",
              "    padding: 0;\n",
              "    width: 32px;\n",
              "  }\n",
              "\n",
              "  .colab-df-quickchart:hover {\n",
              "    background-color: var(--hover-bg-color);\n",
              "    box-shadow: 0 1px 2px rgba(60, 64, 67, 0.3), 0 1px 3px 1px rgba(60, 64, 67, 0.15);\n",
              "    fill: var(--button-hover-fill-color);\n",
              "  }\n",
              "\n",
              "  .colab-df-quickchart-complete:disabled,\n",
              "  .colab-df-quickchart-complete:disabled:hover {\n",
              "    background-color: var(--disabled-bg-color);\n",
              "    fill: var(--disabled-fill-color);\n",
              "    box-shadow: none;\n",
              "  }\n",
              "\n",
              "  .colab-df-spinner {\n",
              "    border: 2px solid var(--fill-color);\n",
              "    border-color: transparent;\n",
              "    border-bottom-color: var(--fill-color);\n",
              "    animation:\n",
              "      spin 1s steps(1) infinite;\n",
              "  }\n",
              "\n",
              "  @keyframes spin {\n",
              "    0% {\n",
              "      border-color: transparent;\n",
              "      border-bottom-color: var(--fill-color);\n",
              "      border-left-color: var(--fill-color);\n",
              "    }\n",
              "    20% {\n",
              "      border-color: transparent;\n",
              "      border-left-color: var(--fill-color);\n",
              "      border-top-color: var(--fill-color);\n",
              "    }\n",
              "    30% {\n",
              "      border-color: transparent;\n",
              "      border-left-color: var(--fill-color);\n",
              "      border-top-color: var(--fill-color);\n",
              "      border-right-color: var(--fill-color);\n",
              "    }\n",
              "    40% {\n",
              "      border-color: transparent;\n",
              "      border-right-color: var(--fill-color);\n",
              "      border-top-color: var(--fill-color);\n",
              "    }\n",
              "    60% {\n",
              "      border-color: transparent;\n",
              "      border-right-color: var(--fill-color);\n",
              "    }\n",
              "    80% {\n",
              "      border-color: transparent;\n",
              "      border-right-color: var(--fill-color);\n",
              "      border-bottom-color: var(--fill-color);\n",
              "    }\n",
              "    90% {\n",
              "      border-color: transparent;\n",
              "      border-bottom-color: var(--fill-color);\n",
              "    }\n",
              "  }\n",
              "</style>\n",
              "\n",
              "      <script>\n",
              "        async function quickchart(key) {\n",
              "          const quickchartButtonEl =\n",
              "            document.querySelector('#' + key + ' button');\n",
              "          quickchartButtonEl.disabled = true;  // To prevent multiple clicks.\n",
              "          quickchartButtonEl.classList.add('colab-df-spinner');\n",
              "          try {\n",
              "            const charts = await google.colab.kernel.invokeFunction(\n",
              "                'suggestCharts', [key], {});\n",
              "          } catch (error) {\n",
              "            console.error('Error during call to suggestCharts:', error);\n",
              "          }\n",
              "          quickchartButtonEl.classList.remove('colab-df-spinner');\n",
              "          quickchartButtonEl.classList.add('colab-df-quickchart-complete');\n",
              "        }\n",
              "        (() => {\n",
              "          let quickchartButtonEl =\n",
              "            document.querySelector('#df-d774820f-b483-4174-848d-082ec09b9b56 button');\n",
              "          quickchartButtonEl.style.display =\n",
              "            google.colab.kernel.accessAllowed ? 'block' : 'none';\n",
              "        })();\n",
              "      </script>\n",
              "    </div>\n",
              "\n",
              "    </div>\n",
              "  </div>\n"
            ],
            "application/vnd.google.colaboratory.intrinsic+json": {
              "type": "dataframe",
              "variable_name": "df_selected",
              "summary": "{\n  \"name\": \"df_selected\",\n  \"rows\": 482,\n  \"fields\": [\n    {\n      \"column\": \"SEXDSTN_FLAG_CD\",\n      \"properties\": {\n        \"dtype\": \"category\",\n        \"num_unique_values\": 2,\n        \"samples\": [\n          \"F\",\n          \"M\"\n        ],\n        \"semantic_type\": \"\",\n        \"description\": \"\"\n      }\n    },\n    {\n      \"column\": \"MESURE_IEM_001_VALUE\",\n      \"properties\": {\n        \"dtype\": \"number\",\n        \"std\": 6.248637446044453,\n        \"min\": 153.4,\n        \"max\": 191.2,\n        \"num_unique_values\": 211,\n        \"samples\": [\n          168.6,\n          171.0\n        ],\n        \"semantic_type\": \"\",\n        \"description\": \"\"\n      }\n    },\n    {\n      \"column\": \"MESURE_IEM_002_VALUE\",\n      \"properties\": {\n        \"dtype\": \"number\",\n        \"std\": 10.446423748214045,\n        \"min\": 44.1,\n        \"max\": 116.7,\n        \"num_unique_values\": 281,\n        \"samples\": [\n          58.8,\n          79.8\n        ],\n        \"semantic_type\": \"\",\n        \"description\": \"\"\n      }\n    },\n    {\n      \"column\": \"MESURE_IEM_003_VALUE\",\n      \"properties\": {\n        \"dtype\": \"number\",\n        \"std\": 6.4602920255811975,\n        \"min\": 3.9,\n        \"max\": 40.0,\n        \"num_unique_values\": 217,\n        \"samples\": [\n          25.5,\n          15.9\n        ],\n        \"semantic_type\": \"\",\n        \"description\": \"\"\n      }\n    },\n    {\n      \"column\": \"MESURE_IEM_005_VALUE\",\n      \"properties\": {\n        \"dtype\": \"number\",\n        \"std\": 10.415518370238814,\n        \"min\": 48.0,\n        \"max\": 108.0,\n        \"num_unique_values\": 51,\n        \"samples\": [\n          87.0,\n          59.0\n        ],\n        \"semantic_type\": \"\",\n        \"description\": \"\"\n      }\n    },\n    {\n      \"column\": \"MESURE_IEM_006_VALUE\",\n      \"properties\": {\n        \"dtype\": \"number\",\n        \"std\": 14.920060711233177,\n        \"min\": 14.0,\n        \"max\": 181.0,\n        \"num_unique_values\": 63,\n        \"samples\": [\n          181.0,\n          104.0\n        ],\n        \"semantic_type\": \"\",\n        \"description\": \"\"\n      }\n    },\n    {\n      \"column\": \"MESURE_IEM_031_VALUE\",\n      \"properties\": {\n        \"dtype\": \"number\",\n        \"std\": 12.563723752441085,\n        \"min\": 54.0,\n        \"max\": 128.0,\n        \"num_unique_values\": 62,\n        \"samples\": [\n          65.0,\n          120.0\n        ],\n        \"semantic_type\": \"\",\n        \"description\": \"\"\n      }\n    },\n    {\n      \"column\": \"MESURE_IEM_032_VALUE\",\n      \"properties\": {\n        \"dtype\": \"number\",\n        \"std\": 14.741927987307044,\n        \"min\": 52.0,\n        \"max\": 158.0,\n        \"num_unique_values\": 71,\n        \"samples\": [\n          113.0,\n          126.0\n        ],\n        \"semantic_type\": \"\",\n        \"description\": \"\"\n      }\n    },\n    {\n      \"column\": \"MESURE_IEM_033_VALUE\",\n      \"properties\": {\n        \"dtype\": \"number\",\n        \"std\": 16.242194651182313,\n        \"min\": 79.0,\n        \"max\": 172.0,\n        \"num_unique_values\": 82,\n        \"samples\": [\n          141.0,\n          145.0\n        ],\n        \"semantic_type\": \"\",\n        \"description\": \"\"\n      }\n    },\n    {\n      \"column\": \"MESURE_IEM_034_VALUE\",\n      \"properties\": {\n        \"dtype\": \"number\",\n        \"std\": 18.91651929086297,\n        \"min\": 71.0,\n        \"max\": 213.0,\n        \"num_unique_values\": 90,\n        \"samples\": [\n          188.0,\n          155.0\n        ],\n        \"semantic_type\": \"\",\n        \"description\": \"\"\n      }\n    },\n    {\n      \"column\": \"MESURE_IEM_035_VALUE\",\n      \"properties\": {\n        \"dtype\": \"number\",\n        \"std\": 5.860002891517763,\n        \"min\": 27.1,\n        \"max\": 68.0,\n        \"num_unique_values\": 205,\n        \"samples\": [\n          44.9,\n          53.0\n        ],\n        \"semantic_type\": \"\",\n        \"description\": \"\"\n      }\n    }\n  ]\n}"
            }
          },
          "metadata": {},
          "execution_count": 50
        }
      ]
    },
    {
      "cell_type": "code",
      "source": [],
      "metadata": {
        "id": "8UULOYh9pOxW"
      },
      "execution_count": 50,
      "outputs": []
    },
    {
      "cell_type": "code",
      "source": [
        "df_selected.columns = [\n",
        "    'sex',\n",
        "    'hight',\n",
        "    'weight',\n",
        "    'fatrate',\n",
        "    'diastolic_bp',\n",
        "    'systolic_bp',\n",
        "    'tmil_stable',\n",
        "    'tmil_3m',\n",
        "    'tmil_6m',\n",
        "    'tmil_9m',\n",
        "    'tmil_vo2M',\n",
        "]"
      ],
      "metadata": {
        "id": "fp4TgMZ2mxx5"
      },
      "execution_count": 51,
      "outputs": []
    },
    {
      "cell_type": "code",
      "source": [
        "df_selected['tmil_stable'].hist()"
      ],
      "metadata": {
        "colab": {
          "base_uri": "https://localhost:8080/",
          "height": 451
        },
        "id": "npizR-yJon0V",
        "outputId": "62af558d-dfde-424b-da28-94e0c762422f"
      },
      "execution_count": 52,
      "outputs": [
        {
          "output_type": "execute_result",
          "data": {
            "text/plain": [
              "<Axes: >"
            ]
          },
          "metadata": {},
          "execution_count": 52
        },
        {
          "output_type": "display_data",
          "data": {
            "text/plain": [
              "<Figure size 640x480 with 1 Axes>"
            ],
            "image/png": "[encoded data removed]"
          },
          "metadata": {}
        }
      ]
    },
    {
      "cell_type": "code",
      "source": [
        "df_selected['tmil_stable'].skew()"
      ],
      "metadata": {
        "colab": {
          "base_uri": "https://localhost:8080/"
        },
        "id": "aD2-2o52pp15",
        "outputId": "150ee48d-0a2c-4d4e-97db-2e3ba434c260"
      },
      "execution_count": 53,
      "outputs": [
        {
          "output_type": "execute_result",
          "data": {
            "text/plain": [
              "np.float64(0.01227969611363327)"
            ]
          },
          "metadata": {},
          "execution_count": 53
        }
      ]
    },
    {
      "cell_type": "code",
      "source": [
        "df_selected['tmil_stable'].kurt()"
      ],
      "metadata": {
        "colab": {
          "base_uri": "https://localhost:8080/"
        },
        "id": "cgJ9Ynwqpw2f",
        "outputId": "eb0b74e6-0126-4937-99ee-84d9973d3697"
      },
      "execution_count": 54,
      "outputs": [
        {
          "output_type": "execute_result",
          "data": {
            "text/plain": [
              "np.float64(-0.14529448754316077)"
            ]
          },
          "metadata": {},
          "execution_count": 54
        }
      ]
    },
    {
      "cell_type": "code",
      "source": [
        "df_selected['tmil_stable'].describe()"
      ],
      "metadata": {
        "colab": {
          "base_uri": "https://localhost:8080/",
          "height": 331
        },
        "id": "pMc6BRM_qtB-",
        "outputId": "a95d906e-7502-43b8-b541-913817fba16c"
      },
      "execution_count": 55,
      "outputs": [
        {
          "output_type": "execute_result",
          "data": {
            "text/plain": [
              "count    482.000000\n",
              "mean      86.493776\n",
              "std       12.563724\n",
              "min       54.000000\n",
              "25%       77.250000\n",
              "50%       87.000000\n",
              "75%       95.000000\n",
              "max      128.000000\n",
              "Name: tmil_stable, dtype: float64"
            ],
            "text/html": [
              "<div>\n",
              "<style scoped>\n",
              "    .dataframe tbody tr th:only-of-type {\n",
              "        vertical-align: middle;\n",
              "    }\n",
              "\n",
              "    .dataframe tbody tr th {\n",
              "        vertical-align: top;\n",
              "    }\n",
              "\n",
              "    .dataframe thead th {\n",
              "        text-align: right;\n",
              "    }\n",
              "</style>\n",
              "<table border=\"1\" class=\"dataframe\">\n",
              "  <thead>\n",
              "    <tr style=\"text-align: right;\">\n",
              "      <th></th>\n",
              "      <th>tmil_stable</th>\n",
              "    </tr>\n",
              "  </thead>\n",
              "  <tbody>\n",
              "    <tr>\n",
              "      <th>count</th>\n",
              "      <td>482.000000</td>\n",
              "    </tr>\n",
              "    <tr>\n",
              "      <th>mean</th>\n",
              "      <td>86.493776</td>\n",
              "    </tr>\n",
              "    <tr>\n",
              "      <th>std</th>\n",
              "      <td>12.563724</td>\n",
              "    </tr>\n",
              "    <tr>\n",
              "      <th>min</th>\n",
              "      <td>54.000000</td>\n",
              "    </tr>\n",
              "    <tr>\n",
              "      <th>25%</th>\n",
              "      <td>77.250000</td>\n",
              "    </tr>\n",
              "    <tr>\n",
              "      <th>50%</th>\n",
              "      <td>87.000000</td>\n",
              "    </tr>\n",
              "    <tr>\n",
              "      <th>75%</th>\n",
              "      <td>95.000000</td>\n",
              "    </tr>\n",
              "    <tr>\n",
              "      <th>max</th>\n",
              "      <td>128.000000</td>\n",
              "    </tr>\n",
              "  </tbody>\n",
              "</table>\n",
              "</div><br><label><b>dtype:</b> float64</label>"
            ]
          },
          "metadata": {},
          "execution_count": 55
        }
      ]
    },
    {
      "cell_type": "code",
      "source": [
        "df_selected['tmil_stable'].quantile([0.25,0.5,0.75])"
      ],
      "metadata": {
        "colab": {
          "base_uri": "https://localhost:8080/",
          "height": 176
        },
        "id": "ehMbE7EirQFI",
        "outputId": "40ae88d2-fdc3-4553-c1c5-dbe5fac81837"
      },
      "execution_count": 56,
      "outputs": [
        {
          "output_type": "execute_result",
          "data": {
            "text/plain": [
              "0.25    77.25\n",
              "0.50    87.00\n",
              "0.75    95.00\n",
              "Name: tmil_stable, dtype: float64"
            ],
            "text/html": [
              "<div>\n",
              "<style scoped>\n",
              "    .dataframe tbody tr th:only-of-type {\n",
              "        vertical-align: middle;\n",
              "    }\n",
              "\n",
              "    .dataframe tbody tr th {\n",
              "        vertical-align: top;\n",
              "    }\n",
              "\n",
              "    .dataframe thead th {\n",
              "        text-align: right;\n",
              "    }\n",
              "</style>\n",
              "<table border=\"1\" class=\"dataframe\">\n",
              "  <thead>\n",
              "    <tr style=\"text-align: right;\">\n",
              "      <th></th>\n",
              "      <th>tmil_stable</th>\n",
              "    </tr>\n",
              "  </thead>\n",
              "  <tbody>\n",
              "    <tr>\n",
              "      <th>0.25</th>\n",
              "      <td>77.25</td>\n",
              "    </tr>\n",
              "    <tr>\n",
              "      <th>0.50</th>\n",
              "      <td>87.00</td>\n",
              "    </tr>\n",
              "    <tr>\n",
              "      <th>0.75</th>\n",
              "      <td>95.00</td>\n",
              "    </tr>\n",
              "  </tbody>\n",
              "</table>\n",
              "</div><br><label><b>dtype:</b> float64</label>"
            ]
          },
          "metadata": {},
          "execution_count": 56
        }
      ]
    },
    {
      "cell_type": "markdown",
      "source": [
        "\"skew와 kurt를 비교한 결과 정규분포와 유한한 것처럼 보인다. 하지만 실제 분포는 평균 이하 구간(87이하)에 상대적으로 더 많은 데이터가 분포하고, 최빈 구간은 90~100근처에 집중되어 있다. 따라서 정규성 가정이 크게 깨지지 않으나, 중앙 근처의 비대칭성은 해석 시 주의가 필요하다\"\n",
        "\n",
        "따하서 Q-Q Plot으로 정규성을 확인해보고자 한다."
      ],
      "metadata": {
        "id": "hj7IYL7NsBLt"
      }
    },
    {
      "cell_type": "code",
      "source": [
        "import scipy.stats as stats\n",
        "import matplotlib.pyplot as plt\n",
        "import numpy as np\n",
        "\n",
        "data = df_selected['tmil_stable']\n",
        "\n",
        "osm,osr = stats.probplot(data, dist='norm', plot=plt)\n",
        "plt.title('Q-Q Plot')\n",
        "plt.show()"
      ],
      "metadata": {
        "colab": {
          "base_uri": "https://localhost:8080/",
          "height": 472
        },
        "id": "KHqpfZlM0cIq",
        "outputId": "39efeb82-0984-4bf5-a903-345b1ea3a061"
      },
      "execution_count": 57,
      "outputs": [
        {
          "output_type": "display_data",
          "data": {
            "text/plain": [
              "<Figure size 640x480 with 1 Axes>"
            ],
            "image/png": "[encoded data removed]"
          },
          "metadata": {}
        }
      ]
    },
    {
      "cell_type": "markdown",
      "source": [
        "z-score : 표준정규분포, 평균에서 얼마나 떨어져 있는지 (표준편차 단위)\n"
      ],
      "metadata": {
        "id": "pr5SJaXT8eYW"
      }
    },
    {
      "cell_type": "code",
      "source": [
        "z_data = (df_selected['tmil_stable'] - df_selected['tmil_stable'].mean()) / df_selected['tmil_stable'].std()\n",
        "\n",
        "stats.probplot(z_data, dist='norm', plot=plt)\n",
        "plt.title('Q-Q Plot')\n",
        "plt.show()"
      ],
      "metadata": {
        "colab": {
          "base_uri": "https://localhost:8080/",
          "height": 472
        },
        "id": "oqsWfQ2XxvSg",
        "outputId": "7dd1f27b-0395-42fe-ef2f-f4d4d254b125"
      },
      "execution_count": 58,
      "outputs": [
        {
          "output_type": "display_data",
          "data": {
            "text/plain": [
              "<Figure size 640x480 with 1 Axes>"
            ],
            "image/png": "[encoded data removed]"
          },
          "metadata": {}
        }
      ]
    },
    {
      "cell_type": "markdown",
      "source": [
        "Q-Q Plot(Quantile-Quantile Plot)\n",
        "데이터가 어떤 분포를 따른다고 가정할 때 실제 데이터의 분위수와 이론적 분포의 분위수를 쌍으로 매칭해서 산점도로 그림(대각선 직선-이론적 분포, 점들의 패턴-실제 데이터)\n",
        "\n",
        "\n",
        "*데이터 분석에서는 통계 기법의 전제 조건을 확인해야한다. 예를 들어 t-test, ANOVA 같은 평균 비교는 \"표본은 정규분포를 따른다\"는 가정을 전제로 하고 회귀분석, 상관분석은 \"오차가 정규분포라고 가정\"한다. 이 가정이 맞지 않으면 p-value, 신뢰구간 해석이 왜곡 될 수 있기 때문에 q-q plot으로 시각적으로 확인하고 shapiro-wilk, D'Agostino, KS검정으로 수치적으로 확인해야한다.*\n",
        "\n",
        "\n",
        "\n",
        "\n",
        "<양의 왜도>\n",
        "점들이 위쪽으로 휘어져 직선 위에서 벗어남\n",
        "오른쪽 꼬리(큰 값)가 두껍고 길다는 뜻\n",
        "-> 소수의 큰 값 때문에 분포가 오른쪽으로 \"튀어 있음\"\n",
        "\n",
        "<음의 왜도>\n",
        "점들이 아래쪽으로 휘어짐\n",
        "왼쪽 꼬리(작은 값)가 길다는 뜻\n",
        "->극단적으로 작은 값들이 평균을 끌어내림\n",
        "\n",
        "<해비 tailed>\n",
        "중간 구간은 직선과 비슷하지만 끝부분에서 점들이 크게 벗어남\n",
        "->극단값이 많다는 뜻 -> 분산이 커짐\n",
        "\n",
        "*흐름*\n",
        "1. 데이터가 정규분포인지 확인\n",
        "2. 안 맞으면 변환을 고려\n",
        "3. 표본이 충분히 크면 CLT덕분에 크게 문제 안 됨\n",
        "4. 이러한 과정 후 t-test, ANOVA같은 통계 분석을 사용"
      ],
      "metadata": {
        "id": "ISOLuvtitmc7"
      }
    },
    {
      "cell_type": "markdown",
      "source": [
        "Shapiro-Wilk\n",
        "- 정규성을 수치로 검정\n",
        "\n",
        "    귀무가설(H0) : 데이터는 정규분포를 따른다.\n",
        "\n",
        "    대립가설(H1) : 정규분포가 아니다\n",
        "- p-value < 0.05 -> 정규성 기각\n",
        "- p-value >= 0.05 -> 정규성 유지"
      ],
      "metadata": {
        "id": "DDCp_TnRCjze"
      }
    },
    {
      "cell_type": "code",
      "source": [
        "from scipy.stats import shapiro\n",
        "data = (df_selected['tmil_stable'])\n",
        "stat, p = shapiro(data)\n",
        "print(\"shapiro-wilk test statistic\", stat)\n",
        "print(\"p-value\", p)"
      ],
      "metadata": {
        "colab": {
          "base_uri": "https://localhost:8080/"
        },
        "id": "ulOCcEobCjPW",
        "outputId": "b93088f2-457c-4324-907a-900904b14261"
      },
      "execution_count": 59,
      "outputs": [
        {
          "output_type": "stream",
          "name": "stdout",
          "text": [
            "shapiro-wilk test statistic 0.9906886770341438\n",
            "p-value 0.003897470855427451\n"
          ]
        }
      ]
    },
    {
      "cell_type": "code",
      "source": [
        "df_selected.size"
      ],
      "metadata": {
        "colab": {
          "base_uri": "https://localhost:8080/"
        },
        "id": "nvF59QlqFSOG",
        "outputId": "a11e8297-5c9a-447a-eeac-c3d96a4a8662"
      },
      "execution_count": 60,
      "outputs": [
        {
          "output_type": "execute_result",
          "data": {
            "text/plain": [
              "5302"
            ]
          },
          "metadata": {},
          "execution_count": 60
        }
      ]
    },
    {
      "cell_type": "markdown",
      "source": [
        "Shapiro-wilk검정 조건\n",
        "\n",
        "공식 범위 : 3<= n <= 5000\n",
        "\n",
        "scipy에서 경고 없이 계산은 됐지만, 결과 신뢰성은 낮을 수 있다.\n",
        "\n",
        "Q-Q plot에서는 대체로 직선에 가깝게 보였지만, Shapiro 검정은 *아주 작은 차이까지 잡아냄*\n",
        "\n",
        "표본이 많으면(>5000) *사소한 차이도 통계적으로 유의*하게 나와서 \"정규성이 아니다\"라고 판정되기 쉬움\n",
        "\n",
        "| Shapiro-Wilk 검정 결과 p=0.0038로 유의수준 0.05에서 정규성 가설은 기각된다.\n",
        "\n",
        "| 하지만 Q-Q plot상 분포는 대체로 직선에 가까워 정규성 가정이 크게 위배되었다고 보긴 어렵다.\n"
      ],
      "metadata": {
        "id": "9wNt6UzZFnGu"
      }
    },
    {
      "cell_type": "markdown",
      "source": [
        "#정규성 여부 분석\n",
        "국민체력10데데이터의 안정시 트레드밀 심박수 분포를 Q-Q plot으로 확인한 결과, 데이터는 정규분포 이론선에 전반적으로 잘 부합하였다. 양 끝단에서 소폭의 이탈이 관찰되었으나 이는 실제 데이터에서 극단값(outlier)에 의해 흔히 나타나는 현상으로, 정체 분포에 큰 왜곡을 주는 수준은 아닌 것으로 판단된다.\n",
        "\n",
        "정규성에 대한 거치적 검정을 위해 shapiro-wilk 검정을 실시한 결과, p-value = 0.0038로 유의수준 0.05보다 낮아 귀무가설(데이터가 정규분포를 따른다)은 기가되었다. 그러나 표본 크기가 5,000개 이상으로 매우 크다는 점을 고려할 때, 작은 분포 차이도 통계적으로 유의하게 검출될 가능성이 크다. 따라서 시각적 검정 결과를 종합하면, 본 데이터는 실무 분석 관정에서 *정규분포에 근사한 분포를 따른다*고 해석할 수 있다.\n",
        "\n"
      ],
      "metadata": {
        "id": "QmrsL719I08R"
      }
    },
    {
      "cell_type": "code",
      "source": [
        "mom_data = df_selected['tmil_stable'].dropna()\n",
        "\n",
        "\n",
        "smp_data = []\n",
        "for i in range(1000) :\n",
        "  s = mom_data.sample(30).mean()\n",
        "  smp_data.append(s)\n",
        "\n",
        "smp_data = pd.Series(smp_data)\n",
        "smp_data.hist()\n",
        "smp_data.describe()\n"
      ],
      "metadata": {
        "colab": {
          "base_uri": "https://localhost:8080/",
          "height": 744
        },
        "id": "BX6-aWyaKNj2",
        "outputId": "786764a9-f539-4a42-ad6c-0f1f3928de6a"
      },
      "execution_count": 61,
      "outputs": [
        {
          "output_type": "execute_result",
          "data": {
            "text/plain": [
              "count    1000.000000\n",
              "mean       86.569033\n",
              "std         2.204894\n",
              "min        80.000000\n",
              "25%        85.100000\n",
              "50%        86.566667\n",
              "75%        88.100000\n",
              "max        93.200000\n",
              "dtype: float64"
            ],
            "text/html": [
              "<div>\n",
              "<style scoped>\n",
              "    .dataframe tbody tr th:only-of-type {\n",
              "        vertical-align: middle;\n",
              "    }\n",
              "\n",
              "    .dataframe tbody tr th {\n",
              "        vertical-align: top;\n",
              "    }\n",
              "\n",
              "    .dataframe thead th {\n",
              "        text-align: right;\n",
              "    }\n",
              "</style>\n",
              "<table border=\"1\" class=\"dataframe\">\n",
              "  <thead>\n",
              "    <tr style=\"text-align: right;\">\n",
              "      <th></th>\n",
              "      <th>0</th>\n",
              "    </tr>\n",
              "  </thead>\n",
              "  <tbody>\n",
              "    <tr>\n",
              "      <th>count</th>\n",
              "      <td>1000.000000</td>\n",
              "    </tr>\n",
              "    <tr>\n",
              "      <th>mean</th>\n",
              "      <td>86.569033</td>\n",
              "    </tr>\n",
              "    <tr>\n",
              "      <th>std</th>\n",
              "      <td>2.204894</td>\n",
              "    </tr>\n",
              "    <tr>\n",
              "      <th>min</th>\n",
              "      <td>80.000000</td>\n",
              "    </tr>\n",
              "    <tr>\n",
              "      <th>25%</th>\n",
              "      <td>85.100000</td>\n",
              "    </tr>\n",
              "    <tr>\n",
              "      <th>50%</th>\n",
              "      <td>86.566667</td>\n",
              "    </tr>\n",
              "    <tr>\n",
              "      <th>75%</th>\n",
              "      <td>88.100000</td>\n",
              "    </tr>\n",
              "    <tr>\n",
              "      <th>max</th>\n",
              "      <td>93.200000</td>\n",
              "    </tr>\n",
              "  </tbody>\n",
              "</table>\n",
              "</div><br><label><b>dtype:</b> float64</label>"
            ]
          },
          "metadata": {},
          "execution_count": 61
        },
        {
          "output_type": "display_data",
          "data": {
            "text/plain": [
              "<Figure size 640x480 with 1 Axes>"
            ],
            "image/png": "[encoded data removed]"
          },
          "metadata": {}
        }
      ]
    },
    {
      "cell_type": "markdown",
      "source": [
        "표본평균이 모집단 평균을 얼마나 잘 대표하는가!\n",
        "1. 모집단 평균\n",
        "2. 표본평균의 평균\n",
        "3. 둘의 차이(절댓값, 혹은 비율)\n",
        "\n",
        "절대값 : 단순히 얼마나 떨어져 있는지 정량적으로 표현\n",
        "\n",
        "-> 표본 크기에 직접적 영향을 받지 않음 + 데이터에 따라 차이의 해석이 달라짐\n",
        "\n",
        "e.g) 혈압 5mmHg차이보다 키 5cm차이가 더 큼\n",
        "\n",
        "비율 : 모집단 평균 대비 상대적 차이를 표현\n",
        "\n",
        "-> 표본 크기가 커질수록 표본평균 분포가 좁아지므로, 비율 차이가 작아짐\n",
        "\n",
        "e.g) 데이터의 종류와 상관없이 해석가가능"
      ],
      "metadata": {
        "id": "XJpPkbhvNxvh"
      }
    },
    {
      "cell_type": "code",
      "source": [
        "mom_mean = mom_data.mean()\n",
        "smp_mean = smp_data.mean()\n",
        "\n",
        "abs_diff = abs(mom_mean - smp_mean)\n",
        "rel_diff = abs_diff / mom_mean\n",
        "\n",
        "mom_mean, smp_mean, abs_diff, rel_diff"
      ],
      "metadata": {
        "colab": {
          "base_uri": "https://localhost:8080/"
        },
        "id": "nBtx033qOmgC",
        "outputId": "cf5728ef-a5e3-49fb-9f15-18ac4c3e15a4"
      },
      "execution_count": 62,
      "outputs": [
        {
          "output_type": "execute_result",
          "data": {
            "text/plain": [
              "(np.float64(86.49377593360995),\n",
              " np.float64(86.56903333333332),\n",
              " np.float64(0.07525739972336964),\n",
              " np.float64(0.0008700903494042738))"
            ]
          },
          "metadata": {},
          "execution_count": 62
        }
      ]
    },
    {
      "cell_type": "markdown",
      "source": [
        "SEM(표준오차)\n",
        "- 모집단의 분한과 표본크기로 계산\n",
        "경험적SEM(실험으로 구한 값)\n",
        "-표본평균들의 분산의 제곱근\n",
        "\n",
        "<왜 비교하느가?>\n",
        "-이론적으로 *\"표본 수가 많아질수록 SEM공식이 잘 맞는다\"*고 말하지만, 실제 뽑은이표본이 적으면 편차가 발생한다.\n",
        "- n이 작으면 경험적 SEM이 들쭉날쭉 -> 표본 추출의 불안정성 체감\n",
        "- n이 크지면 경험적 SEM이 이론값에 점점 가까워짐 -> \"큰 수의 법칙\"체험\n",
        "\n",
        "<요약>\n",
        "| SEM이론 vs 경험 비교는 통계공식이 실제 데이터에서도 유효한지 검정하고, 표본 크기에 따른 안정성을 체감하기 위함\n"
      ],
      "metadata": {
        "id": "0oCrS_BfRVCy"
      }
    },
    {
      "cell_type": "markdown",
      "source": [
        "📌 기본 개념\n",
        "\n",
        "- 분산(variance)나 표준편차(std)를 계산할 때\n",
        "\n",
        "- 모집단 전체 데이터를 가지고 계산 → 분모를 n 으로 나눔\n",
        "\n",
        "- 표본 데이터를 가지고 모집단을 추정할 때 → 분모를 n-1 로 나눔 (자유도 보정)\n",
        "\n",
        "⸻\n",
        "\n",
        "📌 Python / Numpy / Pandas 에서의 ddof\n",
        "\n",
        "- np.std(x, ddof=0) → 분모가 n. 모집단 표준편차\n",
        "\n",
        "- np.std(x, ddof=1) → 분모가 n-1. 표본 표준편차\n",
        "\n",
        "즉,\n",
        "\n",
        "- ddof=0: 데이터 전체가 모집단이라고 가정 (default)\n",
        "\n",
        "- ddof=1: 데이터가 표본이라고 가정 → 더 unbiased (불편추정량)\n"
      ],
      "metadata": {
        "id": "hQkRRsRTVBw1"
      }
    },
    {
      "cell_type": "code",
      "source": [
        " n = 30\n",
        " sem = mom_data.std(ddof=1)/np.sqrt(30)\n",
        " smp_sem = smp_data.std(ddof=1)\n",
        "\n",
        " sem, smp_sem"
      ],
      "metadata": {
        "colab": {
          "base_uri": "https://localhost:8080/"
        },
        "id": "TFaQs074Sj72",
        "outputId": "f9cd7dc9-1733-403f-eda8-59b2ec635e34"
      },
      "execution_count": 65,
      "outputs": [
        {
          "output_type": "execute_result",
          "data": {
            "text/plain": [
              "(np.float64(2.2938116351584776), 2.204894394639737)"
            ]
          },
          "metadata": {},
          "execution_count": 65
        }
      ]
    },
    {
      "cell_type": "code",
      "source": [
        "abs = sem-smp_sem\n",
        "rel = abs/sem\n",
        "\n",
        "abs, rel"
      ],
      "metadata": {
        "colab": {
          "base_uri": "https://localhost:8080/"
        },
        "id": "iWG3qgmcY8go",
        "outputId": "1d51c2e2-3c90-4148-fd8e-b65af5123ed4"
      },
      "execution_count": 66,
      "outputs": [
        {
          "output_type": "execute_result",
          "data": {
            "text/plain": [
              "(np.float64(0.08891724051874084), np.float64(0.03876396786722098))"
            ]
          },
          "metadata": {},
          "execution_count": 66
        }
      ]
    },
    {
      "cell_type": "markdown",
      "source": [
        "<요약>\n",
        "*\"이론적 표본오차(SEM=2.29)와 경험적 표본오차(smp_SEM=2.20)의 차이가 매우 작아, 본 표본의 모집단 평균을 안정적으로 대표한다고 해석할 수 있다\"*"
      ],
      "metadata": {
        "id": "2jTlkBAraW6b"
      }
    },
    {
      "cell_type": "code",
      "source": [
        "fig, axes = plt.subplots(1, 2, figsize=(12, 5))\n",
        "\n",
        "axes[0].hist(mom_data, bins=50, alpha=0.5, label='mom')\n",
        "axes[0].hist(smp_data, bins=50, alpha=0.5, label='sample mean')\n",
        "axes[0].legend()\n",
        "axes[0].set_title(\"mom data vs sample data mean\")\n",
        "\n",
        "axes[1].bar([\"mom std\", \"sample SEM\"],\n",
        "            [mom_data.std(ddof=1), smp_data.std(ddof=1)],\n",
        "            color=[\"orange\", \"blue\"], alpha=0.7)\n",
        "axes[1].set_title(\"mom std vs sample sem\")\n",
        "\n",
        "plt.tight_layout()\n",
        "plt.show()"
      ],
      "metadata": {
        "colab": {
          "base_uri": "https://localhost:8080/",
          "height": 266
        },
        "id": "eojLpsjaawrF",
        "outputId": "684059d5-0180-40a9-cc3b-7bbae32c541c"
      },
      "execution_count": 81,
      "outputs": [
        {
          "output_type": "display_data",
          "data": {
            "text/plain": [
              "<Figure size 1200x500 with 2 Axes>"
            ],
            "image/png": "[encoded data removed]"
          },
          "metadata": {}
        }
      ]
    },
    {
      "cell_type": "markdown",
      "source": [
        "<요약>\n",
        "1. 히스토그램(모집단 vs 표본평균)\n",
        "- 모집단 데이터(mom)는 원부의 분포라 퍼져 있음\n",
        "- 표본평균(sample mean)은 모집단보다 흩어짐이 작고 중앙에 집중됨\n",
        "\n",
        "-> 중심극한정리에 따라 표본평균은 모집단 평균을 잘 대표함\n",
        "\n",
        "2. 막대 그래프(모집단 표준편차 vs 표준오차)\n",
        "- 모집단 표준편차(mom std) > 표본오차(sample SEM)\n",
        "- 평균을 사용하면 개별 데이터보다 변동성이 줄어 안정ㄱ인 대표값을 얻을 수 있음\n",
        "\n",
        "*표본 평균은 모집단 평균을 안정적으로 추정할 수 있는 좋은 추정량*"
      ],
      "metadata": {
        "id": "r67DO6DgfO0m"
      }
    }
  ]
}